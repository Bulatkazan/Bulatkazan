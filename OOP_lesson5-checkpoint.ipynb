{
 "cells": [
  {
   "cell_type": "code",
   "execution_count": 14,
   "id": "48fd395e-9200-425d-b831-06d99434c49b",
   "metadata": {},
   "outputs": [
    {
     "name": "stdout",
     "output_type": "stream",
     "text": [
      "norm2= 5\n",
      "(1, 2)\n",
      "True\n"
     ]
    }
   ],
   "source": [
    "class Vector:\n",
    "    MIN_COORD = 0\n",
    "    MAX_COORD = 100\n",
    "    \n",
    "    @classmethod\n",
    "    def validate(cls, arg):\n",
    "        return cls.MIN_COORD <= arg <=cls.MAX_COORD\n",
    "    \n",
    "    def __init__(self, x ,y):\n",
    "        self.x=self.y=0\n",
    "        \n",
    "        if self.validate(x) and self.validate(y):\n",
    "            self.x = x\n",
    "            self.y = y\n",
    "        print(\"norm2=\",self.norm2(self.x,self.y))\n",
    "    def get_coord(self):\n",
    "        return self.x,self.y\n",
    "\n",
    "    @staticmethod\n",
    "    def norm2(x,y):\n",
    "        return x*x+y*y\n",
    "    \n",
    "v = Vector(1,2)\n",
    "print(v.get_coord())\n",
    "print(v.validate(10))"
   ]
  },
  {
   "cell_type": "code",
   "execution_count": 11,
   "id": "4c93d38e-0bca-4719-a398-18e8871fbd10",
   "metadata": {},
   "outputs": [
    {
     "name": "stdout",
     "output_type": "stream",
     "text": [
      "244\n"
     ]
    }
   ],
   "source": [
    "print(v.norm2(10,12))"
   ]
  },
  {
   "cell_type": "code",
   "execution_count": 15,
   "id": "fa366904-b1cd-4961-8afb-42177ef2bd35",
   "metadata": {},
   "outputs": [],
   "source": [
    "class Stepik:\n",
    "    def get_certificate(self):\n",
    "        return False\n",
    "st = Stepik()"
   ]
  },
  {
   "cell_type": "code",
   "execution_count": 18,
   "id": "c9040936-d13f-420d-aeac-2b9d57fad85a",
   "metadata": {},
   "outputs": [
    {
     "data": {
      "text/plain": [
       "False"
      ]
     },
     "execution_count": 18,
     "metadata": {},
     "output_type": "execute_result"
    }
   ],
   "source": [
    "Stepik.get_certificate(st)"
   ]
  },
  {
   "cell_type": "code",
   "execution_count": 21,
   "id": "65813448-88d6-4a36-88a2-06e421754b1d",
   "metadata": {},
   "outputs": [
    {
     "data": {
      "text/plain": [
       "False"
      ]
     },
     "execution_count": 21,
     "metadata": {},
     "output_type": "execute_result"
    }
   ],
   "source": [
    "\n",
    "\n",
    "\n",
    "st.get_certificate()"
   ]
  },
  {
   "cell_type": "code",
   "execution_count": 23,
   "id": "759b4214-1be1-4966-937f-983646ca4762",
   "metadata": {},
   "outputs": [],
   "source": [
    "class Factory:\n",
    "    \n",
    "    @staticmethod\n",
    "    def build_sequence():\n",
    "        return []\n",
    "    \n",
    "    @staticmethod\n",
    "    def build_number(string):\n",
    "        return int(string)\n",
    "    \n",
    "class Loader:\n",
    "    @staticmethod\n",
    "    def parse_format(string, factory):\n",
    "        seq = factory.build_sequence()\n",
    "        for sub in string.split(\",\"):\n",
    "            item = factory.build_number(sub)\n",
    "            seq.append(item)\n",
    "        return seq\n",
    "\n",
    "res = Loader.parse_format(\"4, 5, -6\",Factory)"
   ]
  },
  {
   "cell_type": "code",
   "execution_count": 24,
   "id": "29f6213e-404e-462b-bc60-4037c0615fd0",
   "metadata": {},
   "outputs": [
    {
     "name": "stdout",
     "output_type": "stream",
     "text": [
      "[4, 5, -6]\n"
     ]
    }
   ],
   "source": [
    "print(res)"
   ]
  },
  {
   "cell_type": "code",
   "execution_count": 31,
   "id": "9cc69f0d-f670-4b91-9dd2-5d3b17db14f9",
   "metadata": {},
   "outputs": [],
   "source": [
    "from string import ascii_lowercase, digits\n",
    "\n",
    "class TextInput:\n",
    "    CHARS = \"абвгдеёжзийклмнопрстуфхцчшщьыъэюя\" + ascii_lowercase\n",
    "    CHARS_CORRECT = CHARS+CHARS.upper()+digits\n",
    "    \n",
    "    def __init__(self,name, size=10):\n",
    "        self.check_name(name)\n",
    "        self.name = name\n",
    "        self.size = size\n",
    "    \n",
    "    def get_html(self):\n",
    "        return f\"<p class='login'>{self.name}: <input type='text' size={self.size}>\"\n",
    "    @classmethod\n",
    "    def check_name(cls, name):\n",
    "        if type(name) !=str or len(name)<3 or len(name)>50:\n",
    "            raise ValueError('некорректное имя поля')\n",
    "        \n",
    "        if set(name) < set(cls.CHARS_CORRECT):\n",
    "            return True\n",
    "        raise ValueError(\"Некорректное имя поля\")\n",
    "        \n",
    "\n",
    "class PasswordInput:\n",
    "    CHARS = \"абвгдеёжзийклмнопрстуфхцчшщьыъэюя\" + ascii_lowercase\n",
    "    CHARS_CORRECT = CHARS+CHARS.upper()+digits\n",
    "    \n",
    "    def __init__(self,name, size=10):\n",
    "        self.check_name(name)\n",
    "        self.name = name\n",
    "        self.size = size\n",
    "    \n",
    "    def get_html(self):\n",
    "        return f\"<p class='password'>{self.name}: <input type='text' size={self.size}>\"\n",
    "    @classmethod\n",
    "    def check_name(cls, name):\n",
    "        if type(name) !=str or len(name)<3 or len(name)>50:\n",
    "            raise ValueError('некорректное имя поля')\n",
    "        \n",
    "        if set(name) <set(cls.CHARS_CORRECT):\n",
    "            return True\n",
    "        raise ValueError(\"Некорректное имя поля\")\n",
    "        \n",
    "    \n",
    "class FormLogin:\n",
    "    \n",
    "    def __init__(self, lgn ,psw):\n",
    "        self.login = lgn\n",
    "        self.password = psw\n",
    "    \n",
    "    def render_template(self):\n",
    "        return \"\\n\".join(['<form action=\"#\"',self.login.get_html(), self.password.get_html(),'</form>'])\n",
    "    \n",
    "login = FormLogin(TextInput(\"Логин\"),PasswordInput(\"Пароль\"))\n",
    "html = login.render_template()"
   ]
  },
  {
   "cell_type": "code",
   "execution_count": 32,
   "id": "3fce6898-97a2-4df8-ab96-1847aa4d69d4",
   "metadata": {},
   "outputs": [
    {
     "name": "stdout",
     "output_type": "stream",
     "text": [
      "<__main__.FormLogin object at 0x000001A3CDDB90A0>\n"
     ]
    }
   ],
   "source": [
    "print(login)"
   ]
  },
  {
   "cell_type": "code",
   "execution_count": 33,
   "id": "269ecae2-5c7b-4d96-8548-8fd19c744995",
   "metadata": {},
   "outputs": [
    {
     "name": "stdout",
     "output_type": "stream",
     "text": [
      "<form action=\"#\"\n",
      "<p class='login'>Логин: <input type='text' size=10>\n",
      "<p class='password'>Пароль: <input type='text' size=10>\n",
      "</form>\n"
     ]
    }
   ],
   "source": [
    "print(html)"
   ]
  },
  {
   "cell_type": "code",
   "execution_count": 38,
   "id": "baf68912-0960-458a-b4f7-9ac0c5e4b8ac",
   "metadata": {},
   "outputs": [],
   "source": [
    "from string import ascii_lowercase, digits\n",
    "class CardCheck:\n",
    "    \n",
    "    CHARS_FOR_NAME = ascii_lowercase.upper()+digits\n",
    "    \n",
    "    @classmethod\n",
    "    def check_card_number(cls, number):\n",
    "        if type(number)!=str:\n",
    "            return False\n",
    "        s = number.split('-')\n",
    "        if len(s)!=4:\n",
    "            return False\n",
    "        return all(map(lambda x: x.isdigit(), s))\n",
    "    \n",
    "    @classmethod\n",
    "    def check_name(cls, name):\n",
    "        if type(name)!=str:\n",
    "            return False\n",
    "        s = name.split()\n",
    "        if len(s)!=2:\n",
    "            return False\n",
    "        set_chars = set(cls.CHARS_FOR_NAME)\n",
    "        return all(map(lambda x: set(x)< set_chars,s))\n",
    "    \n",
    "is_number = CardCheck.check_card_number(\"1234-5678-9012-0000\")\n",
    "is_name = CardCheck.check_name(\"SERGEI BALAKIREV\")"
   ]
  },
  {
   "cell_type": "code",
   "execution_count": 39,
   "id": "2c3540b0-ae3c-4a88-8e1e-9047ee45aab7",
   "metadata": {},
   "outputs": [
    {
     "name": "stdout",
     "output_type": "stream",
     "text": [
      "True\n"
     ]
    }
   ],
   "source": [
    "print(is_number)"
   ]
  },
  {
   "cell_type": "code",
   "execution_count": 40,
   "id": "2dcb2916-6296-4051-80fe-e66681af500f",
   "metadata": {},
   "outputs": [
    {
     "name": "stdout",
     "output_type": "stream",
     "text": [
      "True\n"
     ]
    }
   ],
   "source": [
    "print(is_name)"
   ]
  },
  {
   "cell_type": "code",
   "execution_count": 43,
   "id": "15287cb1-e8d3-4482-8db9-929ffc9096f4",
   "metadata": {},
   "outputs": [
    {
     "name": "stdout",
     "output_type": "stream",
     "text": [
      "воспроизведение видео Python\n",
      "воспроизведение видео Python OOP\n"
     ]
    }
   ],
   "source": [
    "\n",
    "class Video:\n",
    "    def create(self, name):\n",
    "        self.name = name\n",
    "    def play(self):\n",
    "        print(f\"воспроизведение видео {self.name}\")\n",
    "        \n",
    "class YouTube:\n",
    "    videos = []\n",
    "    \n",
    "    @classmethod\n",
    "    def add_videos(cls,video):\n",
    "        cls.videos.append(video)\n",
    "    \n",
    "    @classmethod\n",
    "    def play(cls, video_index):\n",
    "        cls.videos[video_index].play()\n",
    "        \n",
    "v1 = Video()\n",
    "v2 = Video()\n",
    "\n",
    "v1.create(\"Python\")\n",
    "v2.create(\"Python OOP\")\n",
    "\n",
    "YouTube.add_videos(v1)\n",
    "YouTube.add_videos(v2)\n",
    "\n",
    "YouTube.play(0)\n",
    "YouTube.play(1)"
   ]
  },
  {
   "cell_type": "code",
   "execution_count": 44,
   "id": "46e7df8d-6903-4262-838c-7f942fbd36d0",
   "metadata": {},
   "outputs": [
    {
     "name": "stdout",
     "output_type": "stream",
     "text": [
      "воспроизведение видео Python\n",
      "None\n"
     ]
    }
   ],
   "source": [
    "print(v1.play())"
   ]
  },
  {
   "cell_type": "code",
   "execution_count": 56,
   "id": "bfc25759-27a4-464b-9dea-58bd635514c8",
   "metadata": {},
   "outputs": [],
   "source": [
    "class Application:\n",
    "    def __init__(self,name):\n",
    "        self.name=name\n",
    "        self.blocked = False\n",
    "        \n",
    "class AppStore:\n",
    "\n",
    "    def __init__(self):\n",
    "        self.apps = {}\n",
    "    def add_application(self,app):\n",
    "        \n",
    "        self.apps[id(app)] = app\n",
    "\n",
    "    def remove_application(self,app):\n",
    "        self.apps.pop(id(app))\n",
    "            \n",
    "    def block_applicatiom(self, app):\n",
    "        obj = self.apps.get(id(app),False)\n",
    "        if not obj:\n",
    "            return False\n",
    "        obj.blocked = True\n",
    "        return True\n",
    "        \n",
    "    def total_apps(self):\n",
    "        return len(self.apps)\n",
    "    \n",
    "store = AppStore()\n",
    "app_youtube = Application(\"Youtube\")\n",
    "store.add_application(app_youtube)\n",
    "store.remove_application(app_youtube)  "
   ]
  },
  {
   "cell_type": "code",
   "execution_count": 54,
   "id": "b9f0007e-241c-4f7c-aa4c-b406200c22f1",
   "metadata": {},
   "outputs": [
    {
     "name": "stdout",
     "output_type": "stream",
     "text": [
      "{1803047281280: <__main__.Application object at 0x000001A3CDFE2280>}\n"
     ]
    }
   ],
   "source": [
    "print(store.apps)"
   ]
  },
  {
   "cell_type": "code",
   "execution_count": 49,
   "id": "a54c1181-6207-4bc4-8062-5e2131e00d57",
   "metadata": {},
   "outputs": [
    {
     "name": "stdout",
     "output_type": "stream",
     "text": [
      "<__main__.Application object at 0x000001A3CE23BC70>\n"
     ]
    }
   ],
   "source": [
    "print((app_youtube))"
   ]
  },
  {
   "cell_type": "code",
   "execution_count": 83,
   "id": "2611e31a-5790-4bba-823c-caa4d222c1e9",
   "metadata": {},
   "outputs": [],
   "source": [
    "class Viber:\n",
    "    msgs = {}\n",
    "    @classmethod\n",
    "    def add_message(cls,msg):\n",
    "        cls.msgs[id(msg)] = msg\n",
    "        \n",
    "    @classmethod\n",
    "    def remove_message(cls,msg):\n",
    "        key = id(msg)\n",
    "        if key in cls.msgs:\n",
    "            cls.msgs.pop(key)\n",
    "    \n",
    "    @classmethod\n",
    "    def set_like(cls, msg):\n",
    "        msg.fl_like = not msg.fl_like\n",
    "    \n",
    "    @classmethod\n",
    "    def show_last_message(cls, number):\n",
    "        for m in tuple(cls.msgs.values())[-number:]:\n",
    "            print(m)\n",
    "            print(m.text,m.fl_like)\n",
    "            \n",
    "    @classmethod\n",
    "    def total_message(cls):\n",
    "        return len(cls.msgs)\n",
    "\n",
    "class Message:\n",
    "    def __init__(self, text):\n",
    "        self.text = text\n",
    "        self.fl_like = False\n",
    "\n",
    "msg = Message(\"Всем привет!\")\n",
    "Viber.add_message(msg)\n",
    "Viber.add_message(Message(\"Это курс по Python ООП.\"))\n",
    "Viber.add_message(Message(\"Что вы о нем думаете?\"))\n",
    "Viber.set_like(msg)\n",
    "# Viber.remove_message(msg)"
   ]
  },
  {
   "cell_type": "code",
   "execution_count": 84,
   "id": "2ab86533-00a3-4185-800f-d31dd483a774",
   "metadata": {},
   "outputs": [
    {
     "name": "stdout",
     "output_type": "stream",
     "text": [
      "Это курс по Python ООП.\n"
     ]
    }
   ],
   "source": [
    "print(tuple(Viber.msgs.values())[1].text)"
   ]
  },
  {
   "cell_type": "code",
   "execution_count": 85,
   "id": "71bd163e-1efb-428b-9d1e-49e1cd9cd899",
   "metadata": {},
   "outputs": [
    {
     "name": "stdout",
     "output_type": "stream",
     "text": [
      "<__main__.Message object at 0x000001A3CDBEDA00>\n",
      "Это курс по Python ООП. False\n",
      "<__main__.Message object at 0x000001A3CDC40E50>\n",
      "Что вы о нем думаете? False\n"
     ]
    }
   ],
   "source": [
    "Viber.show_last_message(2)"
   ]
  },
  {
   "cell_type": "code",
   "execution_count": 86,
   "id": "20ec4f54-494b-48f9-b23b-a6e98273aa0b",
   "metadata": {},
   "outputs": [
    {
     "data": {
      "text/plain": [
       "3"
      ]
     },
     "execution_count": 86,
     "metadata": {},
     "output_type": "execute_result"
    }
   ],
   "source": [
    "Viber.total_message()"
   ]
  },
  {
   "cell_type": "code",
   "execution_count": null,
   "id": "fd1d1af0-9c4e-4819-aa29-ef8848cd9d0c",
   "metadata": {},
   "outputs": [],
   "source": []
  }
 ],
 "metadata": {
  "kernelspec": {
   "display_name": "Python 3 (ipykernel)",
   "language": "python",
   "name": "python3"
  },
  "language_info": {
   "codemirror_mode": {
    "name": "ipython",
    "version": 3
   },
   "file_extension": ".py",
   "mimetype": "text/x-python",
   "name": "python",
   "nbconvert_exporter": "python",
   "pygments_lexer": "ipython3",
   "version": "3.9.1"
  }
 },
 "nbformat": 4,
 "nbformat_minor": 5
}
