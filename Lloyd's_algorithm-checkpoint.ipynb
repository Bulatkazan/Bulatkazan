{
 "cells": [
  {
   "cell_type": "code",
   "execution_count": 3,
   "id": "0df8ed54-a721-4d8f-9390-1765ac9073ae",
   "metadata": {},
   "outputs": [
    {
     "data": {
      "image/png": "[encoded data removed]",
      "text/plain": [
       "<Figure size 432x288 with 1 Axes>"
      ]
     },
     "metadata": {
      "needs_background": "light"
     },
     "output_type": "display_data"
    }
   ],
   "source": [
    "import time\n",
    "import numpy as np\n",
    "import matplotlib.pyplot as plt\n",
    "\n",
    "x = [(126, 63), (101, 100), (80, 160), (88, 208), (89, 282), (88, 362), (94, 406), (149, 377), (147, 304), (147, 235), (146, 152), (160, 103), (174, 142), (169, 184), (170, 241), (169, 293), (185, 376), (178, 422), (116, 353), (124, 194), (273, 69), (277, 112), (260, 150), (265, 185), (270, 235), (265, 295), (281, 351), (285, 416), (321, 404), (316, 366), (306, 304), (309, 254), (309, 207), (327, 161), (318, 108), (306, 66), (425, 66), (418, 135), (411, 183), (413, 243), (414, 285), (407, 333), (411, 385), (443, 387), (455, 330), (441, 252), (457, 207), (453, 149), (455, 90), (455, 56), (439, 102), (431, 162), (431, 193), (426, 236), (427, 281), (438, 323), (419, 379), (425, 389), (422, 349), (451, 275), (441, 222), (297, 145), (284, 195), (288, 237), (292, 282), (288, 313), (303, 356), (293, 395), (274, 268), (280, 344), (303, 187), (114, 247), (131, 270), (144, 215), (124, 219), (98, 240), (96, 281), (146, 267), (136, 221), (123, 166), (101, 185), (152, 184), (104, 283), (74, 239), (107, 287), (118, 335), (89, 336), (91, 315), (151, 340), (131, 373), (108, 133), (134, 130), (94, 260), (113, 193)]\n",
    "\n",
    "M = np.mean(x, axis=0)\n",
    "D = np.var(x,axis=0)\n",
    "K = 3\n",
    "ma = [np.random.normal(M, np.sqrt(D/10), 2) for n in range(K)]\n",
    "ro = lambda x_vest, m_vest: np.mean((x_vest-m_vest)**2)\n",
    "\n",
    "COLORS = ('green','blue','brown','black')\n",
    "\n",
    "plt.ion()\n",
    "n = 0\n",
    "while n<10:\n",
    "    X = [[] for i in range(K)]\n",
    "    \n",
    "    for x_vest in x:\n",
    "        r = [ro(x_vest, m) for m in ma]\n",
    "        X[np.argmin(r)].append(x_vest)\n",
    "    \n",
    "    ma = [np.mean(xx,axis=0) for xx in X]\n",
    "    plt.clf()\n",
    "    \n",
    "    for i in range(K):\n",
    "        xx = np.array(X[i]).T\n",
    "        plt.scatter(xx[0], xx[1], s=10, color=COLORS[i])\n",
    "    \n",
    "    mx = [m[0] for m in ma]\n",
    "    my = [m[1] for m in ma]\n",
    "    \n",
    "    plt.scatter(mx, my, s=50, color='red')\n",
    "    \n",
    "    plt.draw()\n",
    "    plt.gcf().canvas.flush_events()\n",
    "    time.sleep(0.2)\n",
    "    \n",
    "    n+=1\n",
    "plt.ioff()\n",
    "\n",
    "for i in range(K):\n",
    "    xx = np.array(X[i]).T\n",
    "    plt.scatter(xx[0], xx[1], s=10, color = COLORS[i])\n",
    "\n",
    "mx = [m[0] for m in ma]\n",
    "my = [m[1] for m in ma]\n",
    "plt.scatter(mx, my, s=50, color='red')\n",
    "plt.show()"
   ]
  },
  {
   "cell_type": "code",
   "execution_count": null,
   "id": "1721316e-b3d3-49aa-a3e8-7aedf6b76dfe",
   "metadata": {},
   "outputs": [],
   "source": []
  }
 ],
 "metadata": {
  "kernelspec": {
   "display_name": "Python 3 (ipykernel)",
   "language": "python",
   "name": "python3"
  },
  "language_info": {
   "codemirror_mode": {
    "name": "ipython",
    "version": 3
   },
   "file_extension": ".py",
   "mimetype": "text/x-python",
   "name": "python",
   "nbconvert_exporter": "python",
   "pygments_lexer": "ipython3",
   "version": "3.9.1"
  }
 },
 "nbformat": 4,
 "nbformat_minor": 5
}
