{
 "cells": [
  {
   "cell_type": "code",
   "execution_count": 1,
   "id": "e5975e62-639a-4a48-94a6-a063563ddb62",
   "metadata": {},
   "outputs": [],
   "source": [
    "from itertools import cycle\n",
    "from scipy.cluster.hierarchy import dendrogram\n",
    "from sklearn.cluster import AgglomerativeClustering\n",
    "import numpy as np\n",
    "import matplotlib.pyplot as plt\n"
   ]
  },
  {
   "cell_type": "code",
   "execution_count": 7,
   "id": "c2e10493-24cb-4c36-9d56-009548a6907f",
   "metadata": {},
   "outputs": [
    {
     "data": {
      "image/png": "[encoded data removed]",
      "text/plain": [
       "<Figure size 864x360 with 2 Axes>"
      ]
     },
     "metadata": {
      "needs_background": "light"
     },
     "output_type": "display_data"
    }
   ],
   "source": [
    "def plot_dendrogram(model, **kwargs):\n",
    "    \n",
    "    children = model.children_\n",
    "    distance = np.arange(children.shape[0])\n",
    "    \n",
    "    no_of_observations = np.arange(2, children.shape[0]+2)\n",
    "    \n",
    "    linkage_matrix = np.column_stack([children, distance, no_of_observations]).astype(float)\n",
    "    \n",
    "    dendrogram(linkage_matrix, **kwargs)\n",
    "\n",
    "x  = [(89,151), (114,120),(156,110),(163,153), (148,215), (170,229), (319, 166), (290, 178), (282, 222)]\n",
    "x = np.array(x)\n",
    "\n",
    "NC = 3\n",
    "clustering =AgglomerativeClustering(n_clusters=NC, linkage='ward', affinity='euclidean')\n",
    "x_pr = clustering.fit_predict(x)\n",
    "\n",
    "f, ax =plt.subplots(1, 2,figsize=(12,5))\n",
    "for c, n in zip(cycle('bgrcmykgrcmykgrcmykgrcmykgrcmykgrcmyk'),range(NC)):\n",
    "    clst = x[x_pr == n].T\n",
    "    ax[0].scatter(clst[0], clst[1], s=10, color=c)\n",
    "\n",
    "plot_dendrogram(clustering, ax=ax[1])\n",
    "plt.show()"
   ]
  },
  {
   "cell_type": "code",
   "execution_count": null,
   "id": "98ff002e-cb6c-421b-afbb-cb7f958f5ca0",
   "metadata": {},
   "outputs": [],
   "source": []
  }
 ],
 "metadata": {
  "kernelspec": {
   "display_name": "Python 3 (ipykernel)",
   "language": "python",
   "name": "python3"
  },
  "language_info": {
   "codemirror_mode": {
    "name": "ipython",
    "version": 3
   },
   "file_extension": ".py",
   "mimetype": "text/x-python",
   "name": "python",
   "nbconvert_exporter": "python",
   "pygments_lexer": "ipython3",
   "version": "3.9.1"
  }
 },
 "nbformat": 4,
 "nbformat_minor": 5
}
