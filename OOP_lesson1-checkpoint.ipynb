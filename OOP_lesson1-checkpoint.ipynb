{
 "cells": [
  {
   "cell_type": "code",
   "execution_count": 47,
   "id": "2d7e34a9-f2b5-429c-9652-da6123d6ea9d",
   "metadata": {},
   "outputs": [
    {
     "name": "stdout",
     "output_type": "stream",
     "text": [
      "black\n",
      "4\n"
     ]
    }
   ],
   "source": [
    "class Point:\n",
    "    \"Class for representing coordinates of points on a plane\"\n",
    "    color = 'red'\n",
    "    circle = 4\n",
    "\n",
    "Point.color = 'black'\n",
    "\n",
    "print(Point.color)\n",
    "print(Point.circle)"
   ]
  },
  {
   "cell_type": "code",
   "execution_count": 4,
   "id": "a4351c53-0ea1-4c2d-93f7-6499013f649d",
   "metadata": {},
   "outputs": [
    {
     "data": {
      "text/plain": [
       "mappingproxy({'__module__': '__main__',\n",
       "              'color': 'black',\n",
       "              'circle': 4,\n",
       "              '__dict__': <attribute '__dict__' of 'Point' objects>,\n",
       "              '__weakref__': <attribute '__weakref__' of 'Point' objects>,\n",
       "              '__doc__': None})"
      ]
     },
     "execution_count": 4,
     "metadata": {},
     "output_type": "execute_result"
    }
   ],
   "source": [
    "Point.__dict__"
   ]
  },
  {
   "cell_type": "code",
   "execution_count": 13,
   "id": "6163b5b2-0171-4f53-974f-f6c5b69273e0",
   "metadata": {},
   "outputs": [],
   "source": [
    "a = Point()# экземпляр класса\n",
    "b = Point()\n",
    "b.circle = 10"
   ]
  },
  {
   "cell_type": "code",
   "execution_count": 8,
   "id": "571130dc-1ad5-4f4e-baef-243ca505371b",
   "metadata": {},
   "outputs": [
    {
     "data": {
      "text/plain": [
       "__main__.Point"
      ]
     },
     "execution_count": 8,
     "metadata": {},
     "output_type": "execute_result"
    }
   ],
   "source": [
    "type(a)"
   ]
  },
  {
   "cell_type": "code",
   "execution_count": 9,
   "id": "43b705be-f035-4dd7-9fb6-30c97a7e6479",
   "metadata": {},
   "outputs": [
    {
     "data": {
      "text/plain": [
       "True"
      ]
     },
     "execution_count": 9,
     "metadata": {},
     "output_type": "execute_result"
    }
   ],
   "source": [
    "type(a)==Point"
   ]
  },
  {
   "cell_type": "code",
   "execution_count": 10,
   "id": "52184561-c37a-43a6-b723-a4b1f6c30f77",
   "metadata": {},
   "outputs": [
    {
     "data": {
      "text/plain": [
       "True"
      ]
     },
     "execution_count": 10,
     "metadata": {},
     "output_type": "execute_result"
    }
   ],
   "source": [
    "isinstance(a,Point)"
   ]
  },
  {
   "cell_type": "code",
   "execution_count": 11,
   "id": "fd6467fc-1781-409c-81f3-c74c663dd330",
   "metadata": {},
   "outputs": [
    {
     "name": "stdout",
     "output_type": "stream",
     "text": [
      "black\n"
     ]
    }
   ],
   "source": [
    "print(a.color)"
   ]
  },
  {
   "cell_type": "code",
   "execution_count": 14,
   "id": "b0f4f02e-db17-416f-ae97-b7fc9f7fba80",
   "metadata": {},
   "outputs": [
    {
     "name": "stdout",
     "output_type": "stream",
     "text": [
      "10\n",
      "4\n"
     ]
    }
   ],
   "source": [
    "print(b.circle)\n",
    "print(a.circle)"
   ]
  },
  {
   "cell_type": "code",
   "execution_count": 16,
   "id": "7a2bbc50-b217-4cae-b9a7-b587c2b63435",
   "metadata": {},
   "outputs": [
    {
     "data": {
      "text/plain": [
       "{}"
      ]
     },
     "execution_count": 16,
     "metadata": {},
     "output_type": "execute_result"
    }
   ],
   "source": [
    "\n",
    "a.__dict__"
   ]
  },
  {
   "cell_type": "code",
   "execution_count": 17,
   "id": "83d7cb8e-c74a-425a-8bd4-c4d06720add9",
   "metadata": {},
   "outputs": [
    {
     "data": {
      "text/plain": [
       "{'color': 'wer'}"
      ]
     },
     "execution_count": 17,
     "metadata": {},
     "output_type": "execute_result"
    }
   ],
   "source": [
    "a.color ='wer'\n",
    "a.__dict__"
   ]
  },
  {
   "cell_type": "code",
   "execution_count": 18,
   "id": "0527fbdb-f174-40dd-ab03-2b9ba18b748a",
   "metadata": {},
   "outputs": [],
   "source": [
    "Point.type_pt = 'dict'#новые свойства\n"
   ]
  },
  {
   "cell_type": "code",
   "execution_count": 19,
   "id": "9f879a93-0c34-40f6-b14d-0f9beac592dd",
   "metadata": {},
   "outputs": [
    {
     "data": {
      "text/plain": [
       "mappingproxy({'__module__': '__main__',\n",
       "              'color': 'black',\n",
       "              'circle': 4,\n",
       "              '__dict__': <attribute '__dict__' of 'Point' objects>,\n",
       "              '__weakref__': <attribute '__weakref__' of 'Point' objects>,\n",
       "              '__doc__': None,\n",
       "              'type_pt': 'dict'})"
      ]
     },
     "execution_count": 19,
     "metadata": {},
     "output_type": "execute_result"
    }
   ],
   "source": [
    "Point.__dict__"
   ]
  },
  {
   "cell_type": "code",
   "execution_count": 21,
   "id": "fd7ea8ee-eda4-4918-9810-be1ecbc12004",
   "metadata": {},
   "outputs": [
    {
     "data": {
      "text/plain": [
       "mappingproxy({'__module__': '__main__',\n",
       "              'color': 'black',\n",
       "              'circle': 4,\n",
       "              '__dict__': <attribute '__dict__' of 'Point' objects>,\n",
       "              '__weakref__': <attribute '__weakref__' of 'Point' objects>,\n",
       "              '__doc__': None,\n",
       "              'type_pt': 'dict',\n",
       "              'prop': 1})"
      ]
     },
     "execution_count": 21,
     "metadata": {},
     "output_type": "execute_result"
    }
   ],
   "source": [
    "setattr(Point, 'prop',1)\n",
    "Point.__dict__"
   ]
  },
  {
   "cell_type": "code",
   "execution_count": 33,
   "id": "c5a94b52-f37c-4672-bfaa-1f95a4cacba9",
   "metadata": {},
   "outputs": [
    {
     "data": {
      "text/plain": [
       "mappingproxy({'__module__': '__main__',\n",
       "              'color': 'black',\n",
       "              '__dict__': <attribute '__dict__' of 'Point' objects>,\n",
       "              '__weakref__': <attribute '__weakref__' of 'Point' objects>,\n",
       "              '__doc__': None,\n",
       "              'type_pt': 'circle'})"
      ]
     },
     "execution_count": 33,
     "metadata": {},
     "output_type": "execute_result"
    }
   ],
   "source": [
    "setattr(Point, 'type_pt','circle')#добавление атрибутов, если они есть то меняются значения атрибутов\n",
    "Point.__dict__"
   ]
  },
  {
   "cell_type": "code",
   "execution_count": 23,
   "id": "ad6c6bbf-4729-41cd-af34-aaed9f0ab6a4",
   "metadata": {},
   "outputs": [
    {
     "data": {
      "text/plain": [
       "False"
      ]
     },
     "execution_count": 23,
     "metadata": {},
     "output_type": "execute_result"
    }
   ],
   "source": [
    "getattr(Point,'a', False)#проверка атрибутов в классе"
   ]
  },
  {
   "cell_type": "code",
   "execution_count": 24,
   "id": "89b94495-c778-43bd-bcbd-c0f8f3296e17",
   "metadata": {},
   "outputs": [
    {
     "data": {
      "text/plain": [
       "'black'"
      ]
     },
     "execution_count": 24,
     "metadata": {},
     "output_type": "execute_result"
    }
   ],
   "source": [
    "getattr(Point,'color', False)"
   ]
  },
  {
   "cell_type": "code",
   "execution_count": 34,
   "id": "517b537d-5b43-418f-a68a-cbeaaf4f7469",
   "metadata": {},
   "outputs": [],
   "source": [
    "del Point.type_pt#удаление атрибутов"
   ]
  },
  {
   "cell_type": "code",
   "execution_count": 30,
   "id": "2da3737e-95e7-4aae-85a3-e22d338e59e1",
   "metadata": {},
   "outputs": [
    {
     "data": {
      "text/plain": [
       "mappingproxy({'__module__': '__main__',\n",
       "              'color': 'black',\n",
       "              'circle': 4,\n",
       "              '__dict__': <attribute '__dict__' of 'Point' objects>,\n",
       "              '__weakref__': <attribute '__weakref__' of 'Point' objects>,\n",
       "              '__doc__': None})"
      ]
     },
     "execution_count": 30,
     "metadata": {},
     "output_type": "execute_result"
    }
   ],
   "source": [
    "Point.__dict__"
   ]
  },
  {
   "cell_type": "code",
   "execution_count": 31,
   "id": "d0529462-fb84-43e9-9786-ef101530c0cc",
   "metadata": {},
   "outputs": [
    {
     "data": {
      "text/plain": [
       "False"
      ]
     },
     "execution_count": 31,
     "metadata": {},
     "output_type": "execute_result"
    }
   ],
   "source": [
    "hasattr(Point,'prop')"
   ]
  },
  {
   "cell_type": "code",
   "execution_count": 32,
   "id": "e8051c31-a32f-431c-bb92-c88bdd936262",
   "metadata": {},
   "outputs": [],
   "source": [
    "delattr(Point, 'circle')"
   ]
  },
  {
   "cell_type": "code",
   "execution_count": 35,
   "id": "244870de-47f7-456f-8ea2-fae2399c9474",
   "metadata": {},
   "outputs": [
    {
     "data": {
      "text/plain": [
       "False"
      ]
     },
     "execution_count": 35,
     "metadata": {},
     "output_type": "execute_result"
    }
   ],
   "source": [
    "hasattr(a,'circle')"
   ]
  },
  {
   "cell_type": "code",
   "execution_count": 36,
   "id": "29694292-ae88-40c1-8969-0af5647dce2e",
   "metadata": {},
   "outputs": [],
   "source": [
    "del a.color"
   ]
  },
  {
   "cell_type": "code",
   "execution_count": 37,
   "id": "8b7d3b20-00b1-4e81-83b7-9c84d169deb8",
   "metadata": {},
   "outputs": [
    {
     "data": {
      "text/plain": [
       "{}"
      ]
     },
     "execution_count": 37,
     "metadata": {},
     "output_type": "execute_result"
    }
   ],
   "source": [
    "a.__dict__"
   ]
  },
  {
   "cell_type": "code",
   "execution_count": 38,
   "id": "906de279-8e9a-44b5-a53e-b37b503bbba3",
   "metadata": {},
   "outputs": [],
   "source": [
    "a.color='c'"
   ]
  },
  {
   "cell_type": "code",
   "execution_count": 39,
   "id": "d17605bc-2aa3-41e6-9daf-cd6d7253d55c",
   "metadata": {},
   "outputs": [
    {
     "data": {
      "text/plain": [
       "{'color': 'c'}"
      ]
     },
     "execution_count": 39,
     "metadata": {},
     "output_type": "execute_result"
    }
   ],
   "source": [
    "a.__dict__"
   ]
  },
  {
   "cell_type": "code",
   "execution_count": 42,
   "id": "a533d52d-9a4c-4936-bd73-aae42e33fb72",
   "metadata": {},
   "outputs": [
    {
     "data": {
      "text/plain": [
       "{'color': 'c', 'x': 1, 'y': 1}"
      ]
     },
     "execution_count": 42,
     "metadata": {},
     "output_type": "execute_result"
    }
   ],
   "source": [
    "a.x = 1\n",
    "a.y = 1\n",
    "a.__dict__"
   ]
  },
  {
   "cell_type": "code",
   "execution_count": 44,
   "id": "3f9e3aa3-6616-4fa6-9bf2-622553e86cfd",
   "metadata": {},
   "outputs": [
    {
     "data": {
      "text/plain": [
       "{'circle': 10, 'x': 10, 'y': 10}"
      ]
     },
     "execution_count": 44,
     "metadata": {},
     "output_type": "execute_result"
    }
   ],
   "source": [
    "b.x = 10\n",
    "b.y = 10\n",
    "b.__dict__"
   ]
  },
  {
   "cell_type": "code",
   "execution_count": 48,
   "id": "0e4080ae-a3d3-482a-a3cb-8d171705efc3",
   "metadata": {},
   "outputs": [
    {
     "data": {
      "text/plain": [
       "'Class for representing coordinates of points on a plane'"
      ]
     },
     "execution_count": 48,
     "metadata": {},
     "output_type": "execute_result"
    }
   ],
   "source": [
    "Point.__doc__"
   ]
  },
  {
   "cell_type": "code",
   "execution_count": null,
   "id": "a70d2510-7d6b-4691-a515-d4408698a587",
   "metadata": {},
   "outputs": [],
   "source": []
  }
 ],
 "metadata": {
  "kernelspec": {
   "display_name": "Python 3 (ipykernel)",
   "language": "python",
   "name": "python3"
  },
  "language_info": {
   "codemirror_mode": {
    "name": "ipython",
    "version": 3
   },
   "file_extension": ".py",
   "mimetype": "text/x-python",
   "name": "python",
   "nbconvert_exporter": "python",
   "pygments_lexer": "ipython3",
   "version": "3.9.1"
  }
 },
 "nbformat": 4,
 "nbformat_minor": 5
}
