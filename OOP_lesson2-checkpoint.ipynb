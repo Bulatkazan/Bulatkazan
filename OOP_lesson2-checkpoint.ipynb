{
 "cells": [
  {
   "cell_type": "code",
   "execution_count": 18,
   "id": "b2fa2293-8e0e-42cb-b50a-8c79022fcaa7",
   "metadata": {},
   "outputs": [],
   "source": [
    "class Point:\n",
    "    color = 'red'\n",
    "    circle = 2\n",
    "    def set_coords(self):\n",
    "        print(\"call method set_coords\"+str(self))"
   ]
  },
  {
   "cell_type": "code",
   "execution_count": 19,
   "id": "45c604f5-a957-4397-98a5-92ee3867b86a",
   "metadata": {},
   "outputs": [
    {
     "data": {
      "text/plain": [
       "<function __main__.Point.set_coords(self)>"
      ]
     },
     "execution_count": 19,
     "metadata": {},
     "output_type": "execute_result"
    }
   ],
   "source": [
    "Point.set_coords"
   ]
  },
  {
   "cell_type": "code",
   "execution_count": 24,
   "id": "b5779220-9bb4-4e7f-b02f-46f01e251a1c",
   "metadata": {},
   "outputs": [
    {
     "name": "stdout",
     "output_type": "stream",
     "text": [
      "call method set_coords<__main__.Point object at 0x000001E59F814B80>\n"
     ]
    }
   ],
   "source": [
    "Point.set_coords(pt)"
   ]
  },
  {
   "cell_type": "code",
   "execution_count": 21,
   "id": "8030675c-4bf7-42de-8087-ce12ea98ca50",
   "metadata": {},
   "outputs": [
    {
     "data": {
      "text/plain": [
       "{}"
      ]
     },
     "execution_count": 21,
     "metadata": {},
     "output_type": "execute_result"
    }
   ],
   "source": [
    "pt = Point()\n",
    "pt.__dict__"
   ]
  },
  {
   "cell_type": "code",
   "execution_count": 22,
   "id": "e45f571e-d2b4-4d11-b285-22fcbc5f56bf",
   "metadata": {},
   "outputs": [
    {
     "data": {
      "text/plain": [
       "<bound method Point.set_coords of <__main__.Point object at 0x000001E59F814B80>>"
      ]
     },
     "execution_count": 22,
     "metadata": {},
     "output_type": "execute_result"
    }
   ],
   "source": [
    "pt.set_coords"
   ]
  },
  {
   "cell_type": "code",
   "execution_count": 26,
   "id": "c6135e54-4444-4360-9bbd-0bfc24d8cff8",
   "metadata": {},
   "outputs": [
    {
     "name": "stdout",
     "output_type": "stream",
     "text": [
      "call method set_coords<__main__.Point object at 0x000001E59F814B80>\n"
     ]
    }
   ],
   "source": [
    "pt.set_coords()"
   ]
  },
  {
   "cell_type": "code",
   "execution_count": 37,
   "id": "110d2692-0054-44f3-8b69-5ee733a97abf",
   "metadata": {},
   "outputs": [],
   "source": [
    "class Point1:\n",
    "    color = 'red'\n",
    "    circle = 2\n",
    "    def set_coords(self,x,y):\n",
    "        self.x = x\n",
    "        self.y = y\n",
    "        print(\"call method set_coords\"+str(self), x,y)\n",
    "    \n",
    "    def get_coords(self):\n",
    "        return (self.x, self.y)"
   ]
  },
  {
   "cell_type": "code",
   "execution_count": 38,
   "id": "42c00f85-96eb-477e-8752-1451f7edc964",
   "metadata": {},
   "outputs": [
    {
     "name": "stdout",
     "output_type": "stream",
     "text": [
      "call method set_coords<__main__.Point1 object at 0x000001E59F9D4E50> 1 3\n"
     ]
    }
   ],
   "source": [
    "pt1 =Point1()\n",
    "pt1.set_coords(1,3)#доюавляем свойства "
   ]
  },
  {
   "cell_type": "code",
   "execution_count": 39,
   "id": "20dc781a-8be5-4b59-878c-92d02274695a",
   "metadata": {},
   "outputs": [
    {
     "name": "stdout",
     "output_type": "stream",
     "text": [
      "{'x': 1, 'y': 3}\n"
     ]
    }
   ],
   "source": [
    "print(pt1.__dict__)"
   ]
  },
  {
   "cell_type": "code",
   "execution_count": 40,
   "id": "f9594e22-49e5-4e14-8dff-497c915f29b9",
   "metadata": {},
   "outputs": [
    {
     "name": "stdout",
     "output_type": "stream",
     "text": [
      "call method set_coords<__main__.Point1 object at 0x000001E59F9D4E80> 10 20\n",
      "{'x': 10, 'y': 20}\n"
     ]
    }
   ],
   "source": [
    "pt2 = Point1()\n",
    "pt2.set_coords(10,20)#координаты x,y совершенно независимы для каждого экземпляра класса \n",
    "print(pt2.__dict__)"
   ]
  },
  {
   "cell_type": "code",
   "execution_count": 44,
   "id": "83206d7e-6502-40dc-8c4a-3540c105fb4b",
   "metadata": {},
   "outputs": [
    {
     "name": "stdout",
     "output_type": "stream",
     "text": [
      "(10, 20)\n"
     ]
    }
   ],
   "source": [
    "print(pt2.get_coords())"
   ]
  },
  {
   "cell_type": "code",
   "execution_count": 48,
   "id": "6aea9e37-dd43-40b2-a480-c92073505a96",
   "metadata": {},
   "outputs": [
    {
     "name": "stdout",
     "output_type": "stream",
     "text": [
      "<bound method Point1.get_coords of <__main__.Point1 object at 0x000001E59F9D4E80>>\n"
     ]
    }
   ],
   "source": [
    "f = getattr(pt2,'get_coords')\n",
    "print(f)"
   ]
  },
  {
   "cell_type": "code",
   "execution_count": 49,
   "id": "f955858e-2e07-42ed-8733-fe2b8603ff71",
   "metadata": {},
   "outputs": [
    {
     "name": "stdout",
     "output_type": "stream",
     "text": [
      "(10, 20)\n"
     ]
    }
   ],
   "source": [
    "print(f())"
   ]
  },
  {
   "cell_type": "code",
   "execution_count": 59,
   "id": "7edd025f-8d9f-4969-80d3-0380f220bddb",
   "metadata": {},
   "outputs": [
    {
     "name": "stdout",
     "output_type": "stream",
     "text": [
      "Воспроизведение filemedia1\n",
      "Воспроизведение filemedia2\n"
     ]
    }
   ],
   "source": [
    "class MediaPlayer:\n",
    "    def open(self, file):\n",
    "        self.filename = file\n",
    "    def play(self):\n",
    "        return (f\"Воспроизведение {self.filename}\")\n",
    "\n",
    "media1 = MediaPlayer()\n",
    "media2 = MediaPlayer()\n",
    "media1.open( \"filemedia1\")\n",
    "media2.open( \"filemedia2\")\n",
    "print(media1.play())\n",
    "print(media2.play())"
   ]
  },
  {
   "cell_type": "code",
   "execution_count": 68,
   "id": "5d1e5bb1-ebaf-4814-85f5-1e693b36582e",
   "metadata": {},
   "outputs": [
    {
     "name": "stdout",
     "output_type": "stream",
     "text": [
      "10 0 2 5 7\n"
     ]
    }
   ],
   "source": [
    "class Graph:\n",
    "    \n",
    "    def set_data(self, data):\n",
    "        self.data =data\n",
    "    \n",
    "    def draw(self):\n",
    "        LIMIT_Y = [0,10]\n",
    "        a = [ ]\n",
    "        for i in self.data:\n",
    "            if (i>=LIMIT_Y[0]) & (i<=LIMIT_Y[1]):\n",
    "                a.append(i)\n",
    "        print(*a)\n",
    "graph_1 = Graph()\n",
    "graph_1.set_data([10, -5, 100, 20, 0, 80, 45, 2, 5, 7])\n",
    "graph_1.draw()"
   ]
  },
  {
   "cell_type": "code",
   "execution_count": 76,
   "id": "a9ff7691-39e3-43fd-a565-ea4363f04a0b",
   "metadata": {},
   "outputs": [
    {
     "name": "stdout",
     "output_type": "stream",
     "text": [
      "<__main__.StreamData object at 0x000001E5A0B24880> False\n"
     ]
    }
   ],
   "source": [
    "import sys\n",
    "\n",
    "class StreamData:\n",
    "    def create(self, fields, lst_values):\n",
    "        if len(fields)!=len(lst_values):\n",
    "            return False\n",
    "        for i, key in enumerate(fields):\n",
    "            setattr(self,key,lst_values[i])\n",
    "        return True\n",
    "\n",
    "class StreamReader:\n",
    "    FIELDS = ('id', 'title', 'pages')\n",
    "\n",
    "    def readlines(self):\n",
    "        lst_in = list(map(str.strip, sys.stdin.readlines()))  # считывание списка строк из входного потока\n",
    "        sd = StreamData()\n",
    "        res = sd.create(self.FIELDS, lst_in)\n",
    "        return sd, res\n",
    "\n",
    "\n",
    "sr = StreamReader()\n",
    "data, result = sr.readlines()\n",
    "print(data, result)"
   ]
  },
  {
   "cell_type": "code",
   "execution_count": 77,
   "id": "44b36243-1efb-4042-8228-b14e8ba47368",
   "metadata": {},
   "outputs": [],
   "source": [
    "lst_in = list(map(str.strip, sys.stdin.readlines())) "
   ]
  },
  {
   "cell_type": "code",
   "execution_count": 78,
   "id": "50d36b04-0560-4eff-8a78-3fec384161b1",
   "metadata": {},
   "outputs": [
    {
     "name": "stdout",
     "output_type": "stream",
     "text": [
      "[]\n"
     ]
    }
   ],
   "source": [
    "print(lst_in)"
   ]
  },
  {
   "cell_type": "code",
   "execution_count": 122,
   "id": "2da22220-acf7-4d45-817f-5205fde68caa",
   "metadata": {},
   "outputs": [
    {
     "name": "stdout",
     "output_type": "stream",
     "text": [
      "[{'id': '1', 'name': '  Сергей', 'old': '  35', 'salary': '  120000'}, {'id': '2', 'name': '  Федор', 'old': '  23', 'salary': '  12000'}]\n",
      "None\n"
     ]
    }
   ],
   "source": [
    "import sys\n",
    "import numpy as np\n",
    "# программу не менять, только добавить два метода\n",
    "lst_in = list(map(str.strip, sys.stdin.readlines()))  # считывание списка строк из входного потока\n",
    "\n",
    "\n",
    "class DataBase:\n",
    "    lst_data = []\n",
    "    FIELDS = ('id', 'name', 'old', 'salary')\n",
    "\n",
    "    def insert(self, data):\n",
    "        # self.lst_data = data\n",
    "        # print(np.split(np.array(data)))\n",
    "        for i in data:\n",
    "            rt =[]\n",
    "            x = ''\n",
    "\n",
    "            for k in i:\n",
    "                if k == ' ':\n",
    "                    rt.append(x)\n",
    "                    x = ' '\n",
    "                x+=k\n",
    "                # print(x)\n",
    "            # print(rt)\n",
    "\n",
    "            # self.lst_data.append(rt)\n",
    "            self.lst_data.append(dict(zip(self.FIELDS,rt)))\n",
    "        \n",
    "    def select(self,a, b):\n",
    "        print(self.lst_data[0:2])\n",
    "        # for i in self.lst_data:\n",
    "        # return self.lst_data.append[a:b]\n",
    "#         for i, key in enumerate(self.lst_data):\n",
    "#             if (i>=a) & (i<=b): \n",
    "                \n",
    "#                 we = dict(zip(self.FIELDS,key))\n",
    "#                 print(i,list(we))\n",
    "\n",
    "db = DataBase()\n",
    "db.insert(['1 Сергей 35 120000 ', '2 Федор 23 12000 ', '3 Иван 13 1200 '])\n",
    "# print(np.split(np.array(['1 Сергей 35 120000 ', '2 Федор 23 12000 ', '3 Иван 13 1200 ']),2))\n",
    "print(db.select(1,2))\n"
   ]
  },
  {
   "cell_type": "code",
   "execution_count": 198,
   "id": "7636fc10-11d9-453f-9774-55db6b03901b",
   "metadata": {},
   "outputs": [],
   "source": [
    "class Translator:\n",
    "    pairs = (('tree', 'дерево'), ('car', 'машина'), ('car', 'автомобиль'), ('leaf', 'лист'), ('river', 'река'), ('go', 'идти'), ('go', 'ехать'), ('go', 'ходить'), ('milk', 'молоко'))\n",
    "    \n",
    "    translations = []\n",
    "    updated_list = []\n",
    "    query = []\n",
    "    \n",
    "    def add(self, eng, rus):\n",
    "        self.translations.append([eng,rus])\n",
    "        # print(self.translations)\n",
    "    def remove(self, eng):\n",
    "        print('dfhg')\n",
    "        print(self.translations[4][0]=='river')\n",
    "        # for i in range(len(self.translations)):\n",
    "        #     if (self.translations[i][0])==eng:\n",
    "        #         self.updated_list.append(self.translations[i])\n",
    "        #         self.translations.pop(i)\n",
    "        print(self.translations)   \n",
    "    def translate(self, eng):\n",
    "         for i in range(len(self.translations)):\n",
    "            if self.translations[i][0] == eng:\n",
    "                self.query.append(self.translations[i][1])\n",
    "                # print(self.translations[i][1])\n",
    "         \n",
    "         return self.query"
   ]
  },
  {
   "cell_type": "code",
   "execution_count": 155,
   "id": "6b079414-9da6-4d9b-a044-1c493c927427",
   "metadata": {},
   "outputs": [
    {
     "name": "stdout",
     "output_type": "stream",
     "text": [
      "[['tree', 'дерево']]\n"
     ]
    }
   ],
   "source": [
    "rt = Translator()\n",
    "rt.add('tree', 'дерево')"
   ]
  },
  {
   "cell_type": "code",
   "execution_count": 190,
   "id": "caff1d81-0f59-4b99-81fc-234f8df50251",
   "metadata": {},
   "outputs": [],
   "source": [
    "tr = Translator()\n",
    "tr.add(\"tree\", \"дерево\")\n",
    "tr.add(\"car\", \"машина\")\n",
    "tr.add(\"car\", \"автомобиль\")\n",
    "tr.add(\"leaf\", \"лист\")\n",
    "tr.add(\"river\", \"река\")\n",
    "tr.add(\"go\", \"идти\")\n",
    "tr.add(\"go\", \"ехать\")\n",
    "tr.add(\"go\", \"ходить\")\n",
    "tr.add(\"milk\", \"молоко\")"
   ]
  },
  {
   "cell_type": "code",
   "execution_count": 157,
   "id": "19715992-1401-418b-87fd-7e7bdb27c84c",
   "metadata": {},
   "outputs": [
    {
     "name": "stdout",
     "output_type": "stream",
     "text": [
      "['дерево', 'дерево']\n"
     ]
    }
   ],
   "source": [
    "print(rt.translate('tree'))"
   ]
  },
  {
   "cell_type": "code",
   "execution_count": 168,
   "id": "267c9534-9c01-47bf-bc08-ebc6b708e264",
   "metadata": {},
   "outputs": [
    {
     "name": "stdout",
     "output_type": "stream",
     "text": [
      "sfs\n",
      "[['tree', 'дерево'], ['car', 'машина'], ['car', 'автомобиль'], ['leaf', 'лист'], ['river', 'река'], ['go', 'идти'], ['go', 'ехать'], ['go', 'ходить']]\n"
     ]
    }
   ],
   "source": [
    "tr.remove('milk')"
   ]
  },
  {
   "cell_type": "code",
   "execution_count": 169,
   "id": "8a8e1506-d2c0-434c-a33a-f9081331e6af",
   "metadata": {},
   "outputs": [
    {
     "data": {
      "text/plain": [
       "['идти', 'ехать', 'ходить']"
      ]
     },
     "execution_count": 169,
     "metadata": {},
     "output_type": "execute_result"
    }
   ],
   "source": [
    "tr.translate('go')"
   ]
  },
  {
   "cell_type": "code",
   "execution_count": 199,
   "id": "f538cfbd-85ad-47cd-99b6-19621162f584",
   "metadata": {},
   "outputs": [
    {
     "name": "stdout",
     "output_type": "stream",
     "text": [
      "river\n",
      "[['tree', 'дерево'], ['car', 'машина'], ['car', 'автомобиль'], ['leaf', 'лист'], ['river', 'река'], ['go', 'идти'], ['go', 'ехать'], ['go', 'ходить'], ['milk', 'молоко']]\n"
     ]
    }
   ],
   "source": [
    "tr.remove('river')"
   ]
  },
  {
   "cell_type": "code",
   "execution_count": null,
   "id": "df4acc91-e684-4417-bc23-0308acc3d220",
   "metadata": {},
   "outputs": [],
   "source": []
  }
 ],
 "metadata": {
  "kernelspec": {
   "display_name": "Python 3 (ipykernel)",
   "language": "python",
   "name": "python3"
  },
  "language_info": {
   "codemirror_mode": {
    "name": "ipython",
    "version": 3
   },
   "file_extension": ".py",
   "mimetype": "text/x-python",
   "name": "python",
   "nbconvert_exporter": "python",
   "pygments_lexer": "ipython3",
   "version": "3.9.1"
  }
 },
 "nbformat": 4,
 "nbformat_minor": 5
}
