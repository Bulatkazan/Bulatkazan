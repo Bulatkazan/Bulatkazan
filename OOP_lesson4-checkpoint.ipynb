{
 "cells": [
  {
   "cell_type": "code",
   "execution_count": 4,
   "id": "cb31f092-2553-4051-adaf-6ae8e5677a82",
   "metadata": {},
   "outputs": [
    {
     "name": "stdout",
     "output_type": "stream",
     "text": [
      "call __new__ for <class '__main__.Point'>\n",
      "call __init__ for <__main__.Point object at 0x000002542D7609D0>\n"
     ]
    }
   ],
   "source": [
    "class Point:\n",
    "    def __new__(cls, *args,**kwargs):\n",
    "        print(\"call __new__ for \"+str(cls))\n",
    "        return super().__new__(cls)#базовый класс \n",
    "        \n",
    "    def __init__(self,x = 0,y = 0):\n",
    "        print(\"call __init__ for \" +str(self))\n",
    "        self.x = x\n",
    "        self.y = y\n",
    "\n",
    "pt = Point(1,2)\n",
    "\n",
    "    "
   ]
  },
  {
   "cell_type": "code",
   "execution_count": 5,
   "id": "865d8d28-ce68-48df-b144-c761b283b711",
   "metadata": {},
   "outputs": [
    {
     "name": "stdout",
     "output_type": "stream",
     "text": [
      "<__main__.Point object at 0x000002542D7609D0>\n"
     ]
    }
   ],
   "source": [
    "print(pt) "
   ]
  },
  {
   "cell_type": "code",
   "execution_count": 11,
   "id": "ca3e6017-1180-46f4-91c0-5845dbb68ea7",
   "metadata": {},
   "outputs": [
    {
     "name": "stdout",
     "output_type": "stream",
     "text": [
      "2560563384384 2560563384384\n"
     ]
    }
   ],
   "source": [
    "class DataBase:#пример патерна Singleton\n",
    "    \n",
    "    __instance = None\n",
    "    \n",
    "    def __new__(cls, *args, **kwargs):\n",
    "        if cls.__instance is None:\n",
    "            cls.__instance = super().__new__(cls)\n",
    "        return cls.__instance\n",
    "    \n",
    "    def __del__(self):\n",
    "        DataBase.__instance = None\n",
    "    \n",
    "    def __init__(self, user, psw, port):\n",
    "        \n",
    "        self.user = user \n",
    "        self.psw = psw \n",
    "        self.port = port\n",
    "    \n",
    "    def connect(self):\n",
    "        print(f\"соединение с БД:{self.user},{self.psw},{self.port}\")\n",
    "    \n",
    "    def close(self):\n",
    "        print(\"закрытие БД\")\n",
    "    \n",
    "    def read(self):\n",
    "        return \"данные из БД\"\n",
    "    \n",
    "    def write(self, data):\n",
    "        print(f\"запись в БД{data}\")\n",
    "\n",
    "db = DataBase(\"root\",'1534',80)\n",
    "db1 = DataBase(\"root1\",\"8888\",90)\n",
    "print(id(db),id(db1))"
   ]
  },
  {
   "cell_type": "code",
   "execution_count": 12,
   "id": "b8d3ffd4-a277-42e5-a867-15a9052bb05f",
   "metadata": {},
   "outputs": [
    {
     "name": "stdout",
     "output_type": "stream",
     "text": [
      "соединение с БД:root1,8888,90\n",
      "None\n"
     ]
    }
   ],
   "source": [
    "print(db.connect())"
   ]
  },
  {
   "cell_type": "code",
   "execution_count": 13,
   "id": "ff7f8cfa-90b7-41d8-a997-abd3a94140f0",
   "metadata": {},
   "outputs": [
    {
     "name": "stdout",
     "output_type": "stream",
     "text": [
      "соединение с БД:root1,8888,90\n",
      "None\n"
     ]
    }
   ],
   "source": [
    "print(db1.connect())"
   ]
  },
  {
   "cell_type": "code",
   "execution_count": 20,
   "id": "acd81b7c-c3c8-43df-a7ac-6c87afcc3275",
   "metadata": {},
   "outputs": [],
   "source": [
    "class AbstractClass:\n",
    "    \n",
    "    def __new__(cls,*args, **kwargs):\n",
    "        return \"Ошибка: нельзя создавать объекты абстрактного класса\""
   ]
  },
  {
   "cell_type": "code",
   "execution_count": 21,
   "id": "e1bb7915-dc0f-450e-b354-f6dae69b688b",
   "metadata": {},
   "outputs": [],
   "source": [
    "as1 = AbstractClass()"
   ]
  },
  {
   "cell_type": "code",
   "execution_count": 22,
   "id": "aed11a27-2812-4806-84b5-8345f8e59b03",
   "metadata": {},
   "outputs": [
    {
     "name": "stdout",
     "output_type": "stream",
     "text": [
      "Ошибка: нельзя создавать объекты абстрактного класса\n"
     ]
    }
   ],
   "source": [
    "print(as1)"
   ]
  },
  {
   "cell_type": "code",
   "execution_count": 35,
   "id": "49e9bbd3-be78-4754-afad-dc9435f1d4b0",
   "metadata": {},
   "outputs": [],
   "source": [
    "class SingletonFive:\n",
    "    __instance = None\n",
    "    __count = 0\n",
    "    \n",
    "    def __new__(cls,*args,**kwargs):\n",
    "        if cls.__count<5:\n",
    "            cls.__instance = super().__new__(cls)\n",
    "            cls.__count += 1\n",
    "        print(cls.__instance)\n",
    "        return cls.__instance\n",
    "    def __init__(self, name):\n",
    "        self.name = name\n",
    "        print(self.name)\n",
    "            "
   ]
  },
  {
   "cell_type": "code",
   "execution_count": 36,
   "id": "810afebf-530c-45f0-b079-cc8d16ffee3e",
   "metadata": {},
   "outputs": [
    {
     "name": "stdout",
     "output_type": "stream",
     "text": [
      "<__main__.SingletonFive object at 0x000002542EAF2430>\n",
      "0\n",
      "<__main__.SingletonFive object at 0x000002542EA1F490>\n",
      "1\n",
      "<__main__.SingletonFive object at 0x000002542E963550>\n",
      "2\n",
      "<__main__.SingletonFive object at 0x000002542EAED190>\n",
      "3\n",
      "<__main__.SingletonFive object at 0x000002542EAEDE50>\n",
      "4\n",
      "<__main__.SingletonFive object at 0x000002542EAEDE50>\n",
      "5\n",
      "<__main__.SingletonFive object at 0x000002542EAEDE50>\n",
      "6\n",
      "<__main__.SingletonFive object at 0x000002542EAEDE50>\n",
      "7\n",
      "<__main__.SingletonFive object at 0x000002542EAEDE50>\n",
      "8\n",
      "<__main__.SingletonFive object at 0x000002542EAEDE50>\n",
      "9\n"
     ]
    }
   ],
   "source": [
    "objs = [SingletonFive(str(n)) for n in range(10)]"
   ]
  },
  {
   "cell_type": "code",
   "execution_count": 37,
   "id": "5bdde5ac-896d-43d4-a5cd-63438aecef4e",
   "metadata": {},
   "outputs": [
    {
     "name": "stdout",
     "output_type": "stream",
     "text": [
      "[<__main__.SingletonFive object at 0x000002542EAF2430>, <__main__.SingletonFive object at 0x000002542EA1F490>, <__main__.SingletonFive object at 0x000002542E963550>, <__main__.SingletonFive object at 0x000002542EAED190>, <__main__.SingletonFive object at 0x000002542EAEDE50>, <__main__.SingletonFive object at 0x000002542EAEDE50>, <__main__.SingletonFive object at 0x000002542EAEDE50>, <__main__.SingletonFive object at 0x000002542EAEDE50>, <__main__.SingletonFive object at 0x000002542EAEDE50>, <__main__.SingletonFive object at 0x000002542EAEDE50>]\n"
     ]
    }
   ],
   "source": [
    "print(objs)"
   ]
  },
  {
   "cell_type": "code",
   "execution_count": 52,
   "id": "cf7dfaca-892d-477e-8550-ac52ee8c6726",
   "metadata": {},
   "outputs": [
    {
     "name": "stdout",
     "output_type": "stream",
     "text": [
      "wer DialogWindows\n"
     ]
    }
   ],
   "source": [
    "TYPE_OS = 1\n",
    "\n",
    "class DialogWindows:\n",
    "    \n",
    "    name_class = \"DialogWindows\"\n",
    "\n",
    "class DialogLinux:\n",
    "    \n",
    "    name_class = \" DialogLinux\"\n",
    "\n",
    "class Dialog:\n",
    "    \n",
    "    def __new__(cls, *args, **kwargs):\n",
    "        obj = None\n",
    "        if TYPE_OS ==1:\n",
    "            obj = super().__new__(DialogWindows)\n",
    "        else:\n",
    "            obj = super().__new__(DialogLinux)\n",
    "        \n",
    "        obj.name = args[0]\n",
    "    \n",
    "        print(obj.name,obj.name_class)\n",
    "        return obj\n",
    "qw = Dialog(\"wer\")\n"
   ]
  },
  {
   "cell_type": "code",
   "execution_count": 53,
   "id": "bfa37641-e3ac-4801-b055-6a654a7edc45",
   "metadata": {},
   "outputs": [
    {
     "name": "stdout",
     "output_type": "stream",
     "text": [
      "<__main__.DialogWindows object at 0x000002542D8B29D0>\n"
     ]
    }
   ],
   "source": [
    "print(qw)"
   ]
  },
  {
   "cell_type": "code",
   "execution_count": 57,
   "id": "8aeea72a-ccf3-4d84-a8de-36a81ad0018d",
   "metadata": {},
   "outputs": [
    {
     "name": "stdout",
     "output_type": "stream",
     "text": [
      "call __new__ for <class '__main__.Point'>\n",
      "call __init__ for <__main__.Point object at 0x000002542EA0CCA0>\n"
     ]
    }
   ],
   "source": [
    "class Point1:\n",
    "    \n",
    "\n",
    "    def __init__(self, x, y):\n",
    "        self.x = x\n",
    "        self.y = y\n",
    "    def clone(self):\n",
    "        return Point(self.x, self.y)\n",
    "\n",
    "pt = Point1(1,5)\n",
    "pt_clone = pt.clone()\n"
   ]
  },
  {
   "cell_type": "code",
   "execution_count": 56,
   "id": "fbeeaa9e-5b07-4b6d-b803-65632073c4df",
   "metadata": {},
   "outputs": [
    {
     "name": "stdout",
     "output_type": "stream",
     "text": [
      "1 5\n"
     ]
    }
   ],
   "source": [
    "print(pt.x,pt.y)"
   ]
  },
  {
   "cell_type": "code",
   "execution_count": 62,
   "id": "433fe4cf-2f50-4b6c-9f94-04ff7b829fa6",
   "metadata": {},
   "outputs": [
    {
     "name": "stdin",
     "output_type": "stream",
     "text": [
      " 123241\n"
     ]
    }
   ],
   "source": [
    "class Factory:\n",
    "    def build_sequence(self):\n",
    "        return []\n",
    "    def build_number(self,string):\n",
    "        return float(string)\n",
    "    \n",
    "class Loader:\n",
    "    \n",
    "    def parse_format(self, string, factory):\n",
    "        seq = factory.build_sequence()\n",
    "        \n",
    "        for sub in string.split(\",\"):\n",
    "            item = factory.build_number(sub)\n",
    "            seq.append(item)\n",
    "        return seq\n",
    "ld = Loader()\n",
    "s = input()\n",
    "res = ld.parse_format(s, Factory())"
   ]
  },
  {
   "cell_type": "code",
   "execution_count": 63,
   "id": "4ded23ae-9ecf-47e2-8d88-e6948bdd2fcb",
   "metadata": {},
   "outputs": [
    {
     "name": "stdout",
     "output_type": "stream",
     "text": [
      "[123241.0]\n"
     ]
    }
   ],
   "source": [
    "print(res)"
   ]
  },
  {
   "cell_type": "code",
   "execution_count": null,
   "id": "e3d7489b-a79e-408a-bffc-784f1234bcdc",
   "metadata": {},
   "outputs": [],
   "source": []
  }
 ],
 "metadata": {
  "kernelspec": {
   "display_name": "Python 3 (ipykernel)",
   "language": "python",
   "name": "python3"
  },
  "language_info": {
   "codemirror_mode": {
    "name": "ipython",
    "version": 3
   },
   "file_extension": ".py",
   "mimetype": "text/x-python",
   "name": "python",
   "nbconvert_exporter": "python",
   "pygments_lexer": "ipython3",
   "version": "3.9.1"
  }
 },
 "nbformat": 4,
 "nbformat_minor": 5
}
